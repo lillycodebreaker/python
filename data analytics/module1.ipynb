{
 "cells": [
  {
   "cell_type": "markdown",
   "metadata": {},
   "source": [
    "# Module 1 homework"
   ]
  },
  {
   "cell_type": "markdown",
   "metadata": {},
   "source": [
    "**This homework has 7 questions.**"
   ]
  },
  {
   "cell_type": "code",
   "execution_count": 2,
   "metadata": {},
   "outputs": [],
   "source": [
    "import joblib\n",
    "\n",
    "import numpy as np\n",
    "import pandas as pd\n",
    "import seaborn as sns\n",
    "from sklearn.linear_model import LinearRegression"
   ]
  },
  {
   "cell_type": "markdown",
   "metadata": {},
   "source": [
    "Consider the summary output from the multiple linear regression model of `log_selling_price` on all the variables of the CarDekho dataset."
   ]
  },
  {
   "cell_type": "code",
   "execution_count": 3,
   "metadata": {},
   "outputs": [],
   "source": [
    "multiple_linear_regression = joblib.load('homework_data/linear_regression.joblib')"
   ]
  },
  {
   "cell_type": "code",
   "execution_count": 4,
   "metadata": {},
   "outputs": [
    {
     "data": {
      "text/html": [
       "<table class=\"simpletable\">\n",
       "<caption>OLS Regression Results</caption>\n",
       "<tr>\n",
       "  <th>Dep. Variable:</th>    <td>log_selling_price</td> <th>  R-squared:         </th> <td>   0.779</td>\n",
       "</tr>\n",
       "<tr>\n",
       "  <th>Model:</th>                   <td>OLS</td>        <th>  Adj. R-squared:    </th> <td>   0.777</td>\n",
       "</tr>\n",
       "<tr>\n",
       "  <th>Method:</th>             <td>Least Squares</td>   <th>  F-statistic:       </th> <td>   583.4</td>\n",
       "</tr>\n",
       "<tr>\n",
       "  <th>Date:</th>             <td>Mon, 22 Jan 2024</td>  <th>  Prob (F-statistic):</th>  <td>  0.00</td> \n",
       "</tr>\n",
       "<tr>\n",
       "  <th>Time:</th>                 <td>18:31:41</td>      <th>  Log-Likelihood:    </th> <td> -2125.1</td>\n",
       "</tr>\n",
       "<tr>\n",
       "  <th>No. Observations:</th>      <td>  4340</td>       <th>  AIC:               </th> <td>   4304.</td>\n",
       "</tr>\n",
       "<tr>\n",
       "  <th>Df Residuals:</th>          <td>  4313</td>       <th>  BIC:               </th> <td>   4476.</td>\n",
       "</tr>\n",
       "<tr>\n",
       "  <th>Df Model:</th>              <td>    26</td>       <th>                     </th>     <td> </td>   \n",
       "</tr>\n",
       "<tr>\n",
       "  <th>Covariance Type:</th>      <td>nonrobust</td>     <th>                     </th>     <td> </td>   \n",
       "</tr>\n",
       "</table>\n",
       "<table class=\"simpletable\">\n",
       "<tr>\n",
       "                <td></td>                  <th>coef</th>     <th>std err</th>      <th>t</th>      <th>P>|t|</th>  <th>[0.025</th>    <th>0.975]</th>  \n",
       "</tr>\n",
       "<tr>\n",
       "  <th>const</th>                        <td>   12.4959</td> <td>    0.059</td> <td>  212.070</td> <td> 0.000</td> <td>   12.380</td> <td>   12.611</td>\n",
       "</tr>\n",
       "<tr>\n",
       "  <th>year</th>                         <td>    0.1178</td> <td>    0.002</td> <td>   66.227</td> <td> 0.000</td> <td>    0.114</td> <td>    0.121</td>\n",
       "</tr>\n",
       "<tr>\n",
       "  <th>km_driven</th>                    <td>   -0.0008</td> <td>    0.000</td> <td>   -5.354</td> <td> 0.000</td> <td>   -0.001</td> <td>   -0.001</td>\n",
       "</tr>\n",
       "<tr>\n",
       "  <th>fuel_Diesel</th>                  <td>    0.3954</td> <td>    0.015</td> <td>   27.002</td> <td> 0.000</td> <td>    0.367</td> <td>    0.424</td>\n",
       "</tr>\n",
       "<tr>\n",
       "  <th>fuel_Other</th>                   <td>   -0.1087</td> <td>    0.051</td> <td>   -2.148</td> <td> 0.032</td> <td>   -0.208</td> <td>   -0.009</td>\n",
       "</tr>\n",
       "<tr>\n",
       "  <th>seller_type_Individual</th>       <td>   -0.1047</td> <td>    0.016</td> <td>   -6.728</td> <td> 0.000</td> <td>   -0.135</td> <td>   -0.074</td>\n",
       "</tr>\n",
       "<tr>\n",
       "  <th>seller_type_Trustmark Dealer</th> <td>    0.3715</td> <td>    0.042</td> <td>    8.849</td> <td> 0.000</td> <td>    0.289</td> <td>    0.454</td>\n",
       "</tr>\n",
       "<tr>\n",
       "  <th>owner_Other</th>                  <td>   -0.0820</td> <td>    0.042</td> <td>   -1.963</td> <td> 0.050</td> <td>   -0.164</td> <td>   -0.000</td>\n",
       "</tr>\n",
       "<tr>\n",
       "  <th>owner_Second Owner</th>           <td>   -0.0328</td> <td>    0.015</td> <td>   -2.119</td> <td> 0.034</td> <td>   -0.063</td> <td>   -0.002</td>\n",
       "</tr>\n",
       "<tr>\n",
       "  <th>owner_Third Owner</th>            <td>   -0.0979</td> <td>    0.026</td> <td>   -3.798</td> <td> 0.000</td> <td>   -0.148</td> <td>   -0.047</td>\n",
       "</tr>\n",
       "<tr>\n",
       "  <th>brand_BMW</th>                    <td>    0.1236</td> <td>    0.082</td> <td>    1.513</td> <td> 0.130</td> <td>   -0.037</td> <td>    0.284</td>\n",
       "</tr>\n",
       "<tr>\n",
       "  <th>brand_Chevrolet</th>              <td>   -1.7207</td> <td>    0.060</td> <td>  -28.876</td> <td> 0.000</td> <td>   -1.838</td> <td>   -1.604</td>\n",
       "</tr>\n",
       "<tr>\n",
       "  <th>brand_Datsun</th>                 <td>   -1.7509</td> <td>    0.084</td> <td>  -20.753</td> <td> 0.000</td> <td>   -1.916</td> <td>   -1.585</td>\n",
       "</tr>\n",
       "<tr>\n",
       "  <th>brand_Fiat</th>                   <td>   -1.6262</td> <td>    0.083</td> <td>  -19.481</td> <td> 0.000</td> <td>   -1.790</td> <td>   -1.463</td>\n",
       "</tr>\n",
       "<tr>\n",
       "  <th>brand_Ford</th>                   <td>   -1.3177</td> <td>    0.058</td> <td>  -22.858</td> <td> 0.000</td> <td>   -1.431</td> <td>   -1.205</td>\n",
       "</tr>\n",
       "<tr>\n",
       "  <th>brand_Honda</th>                  <td>   -1.1191</td> <td>    0.058</td> <td>  -19.433</td> <td> 0.000</td> <td>   -1.232</td> <td>   -1.006</td>\n",
       "</tr>\n",
       "<tr>\n",
       "  <th>brand_Hyundai</th>                <td>   -1.3317</td> <td>    0.054</td> <td>  -24.594</td> <td> 0.000</td> <td>   -1.438</td> <td>   -1.226</td>\n",
       "</tr>\n",
       "<tr>\n",
       "  <th>brand_Mahindra</th>               <td>   -1.1678</td> <td>    0.056</td> <td>  -20.824</td> <td> 0.000</td> <td>   -1.278</td> <td>   -1.058</td>\n",
       "</tr>\n",
       "<tr>\n",
       "  <th>brand_Maruti</th>                 <td>   -1.4619</td> <td>    0.054</td> <td>  -27.191</td> <td> 0.000</td> <td>   -1.567</td> <td>   -1.357</td>\n",
       "</tr>\n",
       "<tr>\n",
       "  <th>brand_Mercedes-Benz</th>          <td>    0.2986</td> <td>    0.084</td> <td>    3.540</td> <td> 0.000</td> <td>    0.133</td> <td>    0.464</td>\n",
       "</tr>\n",
       "<tr>\n",
       "  <th>brand_Nissan</th>                 <td>   -1.3616</td> <td>    0.072</td> <td>  -18.971</td> <td> 0.000</td> <td>   -1.502</td> <td>   -1.221</td>\n",
       "</tr>\n",
       "<tr>\n",
       "  <th>brand_Other</th>                  <td>   -0.2968</td> <td>    0.084</td> <td>   -3.536</td> <td> 0.000</td> <td>   -0.461</td> <td>   -0.132</td>\n",
       "</tr>\n",
       "<tr>\n",
       "  <th>brand_Renault</th>                <td>   -1.5154</td> <td>    0.062</td> <td>  -24.615</td> <td> 0.000</td> <td>   -1.636</td> <td>   -1.395</td>\n",
       "</tr>\n",
       "<tr>\n",
       "  <th>brand_Skoda</th>                  <td>   -1.0981</td> <td>    0.070</td> <td>  -15.577</td> <td> 0.000</td> <td>   -1.236</td> <td>   -0.960</td>\n",
       "</tr>\n",
       "<tr>\n",
       "  <th>brand_Tata</th>                   <td>   -1.8146</td> <td>    0.056</td> <td>  -32.224</td> <td> 0.000</td> <td>   -1.925</td> <td>   -1.704</td>\n",
       "</tr>\n",
       "<tr>\n",
       "  <th>brand_Toyota</th>                 <td>   -0.7292</td> <td>    0.059</td> <td>  -12.350</td> <td> 0.000</td> <td>   -0.845</td> <td>   -0.613</td>\n",
       "</tr>\n",
       "<tr>\n",
       "  <th>brand_Volkswagen</th>             <td>   -1.2389</td> <td>    0.064</td> <td>  -19.276</td> <td> 0.000</td> <td>   -1.365</td> <td>   -1.113</td>\n",
       "</tr>\n",
       "</table>\n",
       "<table class=\"simpletable\">\n",
       "<tr>\n",
       "  <th>Omnibus:</th>       <td>133.156</td> <th>  Durbin-Watson:     </th> <td>   1.874</td>\n",
       "</tr>\n",
       "<tr>\n",
       "  <th>Prob(Omnibus):</th> <td> 0.000</td>  <th>  Jarque-Bera (JB):  </th> <td> 326.637</td>\n",
       "</tr>\n",
       "<tr>\n",
       "  <th>Skew:</th>          <td> 0.109</td>  <th>  Prob(JB):          </th> <td>1.18e-71</td>\n",
       "</tr>\n",
       "<tr>\n",
       "  <th>Kurtosis:</th>      <td> 4.326</td>  <th>  Cond. No.          </th> <td>3.04e+03</td>\n",
       "</tr>\n",
       "</table><br/><br/>Notes:<br/>[1] Standard Errors assume that the covariance matrix of the errors is correctly specified.<br/>[2] The condition number is large, 3.04e+03. This might indicate that there are<br/>strong multicollinearity or other numerical problems."
      ],
      "text/latex": [
       "\\begin{center}\n",
       "\\begin{tabular}{lclc}\n",
       "\\toprule\n",
       "\\textbf{Dep. Variable:}                 & log\\_selling\\_price & \\textbf{  R-squared:         } &     0.779   \\\\\n",
       "\\textbf{Model:}                         &         OLS         & \\textbf{  Adj. R-squared:    } &     0.777   \\\\\n",
       "\\textbf{Method:}                        &    Least Squares    & \\textbf{  F-statistic:       } &     583.4   \\\\\n",
       "\\textbf{Date:}                          &   Mon, 22 Jan 2024  & \\textbf{  Prob (F-statistic):} &     0.00    \\\\\n",
       "\\textbf{Time:}                          &       18:31:41      & \\textbf{  Log-Likelihood:    } &   -2125.1   \\\\\n",
       "\\textbf{No. Observations:}              &          4340       & \\textbf{  AIC:               } &     4304.   \\\\\n",
       "\\textbf{Df Residuals:}                  &          4313       & \\textbf{  BIC:               } &     4476.   \\\\\n",
       "\\textbf{Df Model:}                      &            26       & \\textbf{                     } &             \\\\\n",
       "\\textbf{Covariance Type:}               &      nonrobust      & \\textbf{                     } &             \\\\\n",
       "\\bottomrule\n",
       "\\end{tabular}\n",
       "\\begin{tabular}{lcccccc}\n",
       "                                        & \\textbf{coef} & \\textbf{std err} & \\textbf{t} & \\textbf{P$> |$t$|$} & \\textbf{[0.025} & \\textbf{0.975]}  \\\\\n",
       "\\midrule\n",
       "\\textbf{const}                          &      12.4959  &        0.059     &   212.070  &         0.000        &       12.380    &       12.611     \\\\\n",
       "\\textbf{year}                           &       0.1178  &        0.002     &    66.227  &         0.000        &        0.114    &        0.121     \\\\\n",
       "\\textbf{km\\_driven}                     &      -0.0008  &        0.000     &    -5.354  &         0.000        &       -0.001    &       -0.001     \\\\\n",
       "\\textbf{fuel\\_Diesel}                   &       0.3954  &        0.015     &    27.002  &         0.000        &        0.367    &        0.424     \\\\\n",
       "\\textbf{fuel\\_Other}                    &      -0.1087  &        0.051     &    -2.148  &         0.032        &       -0.208    &       -0.009     \\\\\n",
       "\\textbf{seller\\_type\\_Individual}       &      -0.1047  &        0.016     &    -6.728  &         0.000        &       -0.135    &       -0.074     \\\\\n",
       "\\textbf{seller\\_type\\_Trustmark Dealer} &       0.3715  &        0.042     &     8.849  &         0.000        &        0.289    &        0.454     \\\\\n",
       "\\textbf{owner\\_Other}                   &      -0.0820  &        0.042     &    -1.963  &         0.050        &       -0.164    &       -0.000     \\\\\n",
       "\\textbf{owner\\_Second Owner}            &      -0.0328  &        0.015     &    -2.119  &         0.034        &       -0.063    &       -0.002     \\\\\n",
       "\\textbf{owner\\_Third Owner}             &      -0.0979  &        0.026     &    -3.798  &         0.000        &       -0.148    &       -0.047     \\\\\n",
       "\\textbf{brand\\_BMW}                     &       0.1236  &        0.082     &     1.513  &         0.130        &       -0.037    &        0.284     \\\\\n",
       "\\textbf{brand\\_Chevrolet}               &      -1.7207  &        0.060     &   -28.876  &         0.000        &       -1.838    &       -1.604     \\\\\n",
       "\\textbf{brand\\_Datsun}                  &      -1.7509  &        0.084     &   -20.753  &         0.000        &       -1.916    &       -1.585     \\\\\n",
       "\\textbf{brand\\_Fiat}                    &      -1.6262  &        0.083     &   -19.481  &         0.000        &       -1.790    &       -1.463     \\\\\n",
       "\\textbf{brand\\_Ford}                    &      -1.3177  &        0.058     &   -22.858  &         0.000        &       -1.431    &       -1.205     \\\\\n",
       "\\textbf{brand\\_Honda}                   &      -1.1191  &        0.058     &   -19.433  &         0.000        &       -1.232    &       -1.006     \\\\\n",
       "\\textbf{brand\\_Hyundai}                 &      -1.3317  &        0.054     &   -24.594  &         0.000        &       -1.438    &       -1.226     \\\\\n",
       "\\textbf{brand\\_Mahindra}                &      -1.1678  &        0.056     &   -20.824  &         0.000        &       -1.278    &       -1.058     \\\\\n",
       "\\textbf{brand\\_Maruti}                  &      -1.4619  &        0.054     &   -27.191  &         0.000        &       -1.567    &       -1.357     \\\\\n",
       "\\textbf{brand\\_Mercedes-Benz}           &       0.2986  &        0.084     &     3.540  &         0.000        &        0.133    &        0.464     \\\\\n",
       "\\textbf{brand\\_Nissan}                  &      -1.3616  &        0.072     &   -18.971  &         0.000        &       -1.502    &       -1.221     \\\\\n",
       "\\textbf{brand\\_Other}                   &      -0.2968  &        0.084     &    -3.536  &         0.000        &       -0.461    &       -0.132     \\\\\n",
       "\\textbf{brand\\_Renault}                 &      -1.5154  &        0.062     &   -24.615  &         0.000        &       -1.636    &       -1.395     \\\\\n",
       "\\textbf{brand\\_Skoda}                   &      -1.0981  &        0.070     &   -15.577  &         0.000        &       -1.236    &       -0.960     \\\\\n",
       "\\textbf{brand\\_Tata}                    &      -1.8146  &        0.056     &   -32.224  &         0.000        &       -1.925    &       -1.704     \\\\\n",
       "\\textbf{brand\\_Toyota}                  &      -0.7292  &        0.059     &   -12.350  &         0.000        &       -0.845    &       -0.613     \\\\\n",
       "\\textbf{brand\\_Volkswagen}              &      -1.2389  &        0.064     &   -19.276  &         0.000        &       -1.365    &       -1.113     \\\\\n",
       "\\bottomrule\n",
       "\\end{tabular}\n",
       "\\begin{tabular}{lclc}\n",
       "\\textbf{Omnibus:}       & 133.156 & \\textbf{  Durbin-Watson:     } &    1.874  \\\\\n",
       "\\textbf{Prob(Omnibus):} &   0.000 & \\textbf{  Jarque-Bera (JB):  } &  326.637  \\\\\n",
       "\\textbf{Skew:}          &   0.109 & \\textbf{  Prob(JB):          } & 1.18e-71  \\\\\n",
       "\\textbf{Kurtosis:}      &   4.326 & \\textbf{  Cond. No.          } & 3.04e+03  \\\\\n",
       "\\bottomrule\n",
       "\\end{tabular}\n",
       "%\\caption{OLS Regression Results}\n",
       "\\end{center}\n",
       "\n",
       "Notes: \\newline\n",
       " [1] Standard Errors assume that the covariance matrix of the errors is correctly specified. \\newline\n",
       " [2] The condition number is large, 3.04e+03. This might indicate that there are \\newline\n",
       " strong multicollinearity or other numerical problems."
      ],
      "text/plain": [
       "<class 'statsmodels.iolib.summary.Summary'>\n",
       "\"\"\"\n",
       "                            OLS Regression Results                            \n",
       "==============================================================================\n",
       "Dep. Variable:      log_selling_price   R-squared:                       0.779\n",
       "Model:                            OLS   Adj. R-squared:                  0.777\n",
       "Method:                 Least Squares   F-statistic:                     583.4\n",
       "Date:                Mon, 22 Jan 2024   Prob (F-statistic):               0.00\n",
       "Time:                        18:31:41   Log-Likelihood:                -2125.1\n",
       "No. Observations:                4340   AIC:                             4304.\n",
       "Df Residuals:                    4313   BIC:                             4476.\n",
       "Df Model:                          26                                         \n",
       "Covariance Type:            nonrobust                                         \n",
       "================================================================================================\n",
       "                                   coef    std err          t      P>|t|      [0.025      0.975]\n",
       "------------------------------------------------------------------------------------------------\n",
       "const                           12.4959      0.059    212.070      0.000      12.380      12.611\n",
       "year                             0.1178      0.002     66.227      0.000       0.114       0.121\n",
       "km_driven                       -0.0008      0.000     -5.354      0.000      -0.001      -0.001\n",
       "fuel_Diesel                      0.3954      0.015     27.002      0.000       0.367       0.424\n",
       "fuel_Other                      -0.1087      0.051     -2.148      0.032      -0.208      -0.009\n",
       "seller_type_Individual          -0.1047      0.016     -6.728      0.000      -0.135      -0.074\n",
       "seller_type_Trustmark Dealer     0.3715      0.042      8.849      0.000       0.289       0.454\n",
       "owner_Other                     -0.0820      0.042     -1.963      0.050      -0.164      -0.000\n",
       "owner_Second Owner              -0.0328      0.015     -2.119      0.034      -0.063      -0.002\n",
       "owner_Third Owner               -0.0979      0.026     -3.798      0.000      -0.148      -0.047\n",
       "brand_BMW                        0.1236      0.082      1.513      0.130      -0.037       0.284\n",
       "brand_Chevrolet                 -1.7207      0.060    -28.876      0.000      -1.838      -1.604\n",
       "brand_Datsun                    -1.7509      0.084    -20.753      0.000      -1.916      -1.585\n",
       "brand_Fiat                      -1.6262      0.083    -19.481      0.000      -1.790      -1.463\n",
       "brand_Ford                      -1.3177      0.058    -22.858      0.000      -1.431      -1.205\n",
       "brand_Honda                     -1.1191      0.058    -19.433      0.000      -1.232      -1.006\n",
       "brand_Hyundai                   -1.3317      0.054    -24.594      0.000      -1.438      -1.226\n",
       "brand_Mahindra                  -1.1678      0.056    -20.824      0.000      -1.278      -1.058\n",
       "brand_Maruti                    -1.4619      0.054    -27.191      0.000      -1.567      -1.357\n",
       "brand_Mercedes-Benz              0.2986      0.084      3.540      0.000       0.133       0.464\n",
       "brand_Nissan                    -1.3616      0.072    -18.971      0.000      -1.502      -1.221\n",
       "brand_Other                     -0.2968      0.084     -3.536      0.000      -0.461      -0.132\n",
       "brand_Renault                   -1.5154      0.062    -24.615      0.000      -1.636      -1.395\n",
       "brand_Skoda                     -1.0981      0.070    -15.577      0.000      -1.236      -0.960\n",
       "brand_Tata                      -1.8146      0.056    -32.224      0.000      -1.925      -1.704\n",
       "brand_Toyota                    -0.7292      0.059    -12.350      0.000      -0.845      -0.613\n",
       "brand_Volkswagen                -1.2389      0.064    -19.276      0.000      -1.365      -1.113\n",
       "==============================================================================\n",
       "Omnibus:                      133.156   Durbin-Watson:                   1.874\n",
       "Prob(Omnibus):                  0.000   Jarque-Bera (JB):              326.637\n",
       "Skew:                           0.109   Prob(JB):                     1.18e-71\n",
       "Kurtosis:                       4.326   Cond. No.                     3.04e+03\n",
       "==============================================================================\n",
       "\n",
       "Notes:\n",
       "[1] Standard Errors assume that the covariance matrix of the errors is correctly specified.\n",
       "[2] The condition number is large, 3.04e+03. This might indicate that there are\n",
       "strong multicollinearity or other numerical problems.\n",
       "\"\"\""
      ]
     },
     "execution_count": 4,
     "metadata": {},
     "output_type": "execute_result"
    }
   ],
   "source": [
    "multiple_linear_regression.summary()"
   ]
  },
  {
   "cell_type": "code",
   "execution_count": 6,
   "metadata": {},
   "outputs": [
    {
     "ename": "SyntaxError",
     "evalue": "invalid syntax (1845859182.py, line 3)",
     "output_type": "error",
     "traceback": [
      "\u001b[1;36m  Cell \u001b[1;32mIn[6], line 3\u001b[1;36m\u001b[0m\n\u001b[1;33m    since the value -1.4619 is negative, it means inverse relationship: as the predictor brand_Maruti increases,\u001b[0m\n\u001b[1;37m          ^\u001b[0m\n\u001b[1;31mSyntaxError\u001b[0m\u001b[1;31m:\u001b[0m invalid syntax\n"
     ]
    }
   ],
   "source": [
    "## Question 1 (1 points)\n",
    "\n",
    "##since the value -1.4619 is negative, it means inverse relationship: as the predictor brand_Maruti increases, \n",
    "##the dependent variable log_selling_price decreases. \n",
    "##the model predicts an decrease in the average of the log of the selling price of a car equal to -1.4619 \n",
    "##for each brand_Maruti sold."
   ]
  },
  {
   "cell_type": "markdown",
   "metadata": {},
   "source": [
    "## Question 2 (1 points)\n",
    "\n",
    "In English, state the meaning/interpretation of the coefficient associated with the predictor `year`."
   ]
  },
  {
   "cell_type": "code",
   "execution_count": 7,
   "metadata": {},
   "outputs": [],
   "source": [
    "## Answer 2\n",
    "\n",
    "##since the value 0.1178 is positive, it means direct relationship: as the predictor year increases, \n",
    "##the dependent variable log_selling_price increases. \n",
    "##the model predicts an increase in the average of the log of the selling price of a car equal to 0.1178 \n",
    "##for each additional year "
   ]
  },
  {
   "cell_type": "markdown",
   "metadata": {},
   "source": [
    "---"
   ]
  },
  {
   "cell_type": "markdown",
   "metadata": {},
   "source": [
    "Now, consider again the logistic regression model that we used to model the probability that a customer subscribes a term deposit for the Bank Marketing dataset."
   ]
  },
  {
   "cell_type": "code",
   "execution_count": 8,
   "metadata": {},
   "outputs": [],
   "source": [
    "logistic_regression_model = joblib.load('homework_data/logistic_regression.joblib')"
   ]
  },
  {
   "cell_type": "markdown",
   "metadata": {},
   "source": [
    "Here is the model summary:"
   ]
  },
  {
   "cell_type": "code",
   "execution_count": 9,
   "metadata": {},
   "outputs": [
    {
     "data": {
      "text/html": [
       "<table class=\"simpletable\">\n",
       "<caption>Logit Regression Results</caption>\n",
       "<tr>\n",
       "  <th>Dep. Variable:</th>           <td>y</td>        <th>  No. Observations:  </th>  <td> 45211</td> \n",
       "</tr>\n",
       "<tr>\n",
       "  <th>Model:</th>                 <td>Logit</td>      <th>  Df Residuals:      </th>  <td> 45185</td> \n",
       "</tr>\n",
       "<tr>\n",
       "  <th>Method:</th>                 <td>MLE</td>       <th>  Df Model:          </th>  <td>    25</td> \n",
       "</tr>\n",
       "<tr>\n",
       "  <th>Date:</th>            <td>Mon, 22 Jan 2024</td> <th>  Pseudo R-squ.:     </th>  <td>0.09451</td>\n",
       "</tr>\n",
       "<tr>\n",
       "  <th>Time:</th>                <td>18:32:31</td>     <th>  Log-Likelihood:    </th> <td> -14774.</td>\n",
       "</tr>\n",
       "<tr>\n",
       "  <th>converged:</th>             <td>True</td>       <th>  LL-Null:           </th> <td> -16315.</td>\n",
       "</tr>\n",
       "<tr>\n",
       "  <th>Covariance Type:</th>     <td>nonrobust</td>    <th>  LLR p-value:       </th>  <td> 0.000</td> \n",
       "</tr>\n",
       "</table>\n",
       "<table class=\"simpletable\">\n",
       "<tr>\n",
       "           <td></td>              <th>coef</th>     <th>std err</th>      <th>z</th>      <th>P>|z|</th>  <th>[0.025</th>    <th>0.975]</th>  \n",
       "</tr>\n",
       "<tr>\n",
       "  <th>const</th>               <td>   -1.2729</td> <td>    0.103</td> <td>  -12.347</td> <td> 0.000</td> <td>   -1.475</td> <td>   -1.071</td>\n",
       "</tr>\n",
       "<tr>\n",
       "  <th>age</th>                 <td>    0.0045</td> <td>    0.002</td> <td>    2.407</td> <td> 0.016</td> <td>    0.001</td> <td>    0.008</td>\n",
       "</tr>\n",
       "<tr>\n",
       "  <th>balance</th>             <td>    0.0211</td> <td>    0.004</td> <td>    5.145</td> <td> 0.000</td> <td>    0.013</td> <td>    0.029</td>\n",
       "</tr>\n",
       "<tr>\n",
       "  <th>campaign</th>            <td>   -0.1321</td> <td>    0.009</td> <td>  -15.418</td> <td> 0.000</td> <td>   -0.149</td> <td>   -0.115</td>\n",
       "</tr>\n",
       "<tr>\n",
       "  <th>previous</th>            <td>    0.0902</td> <td>    0.006</td> <td>   14.719</td> <td> 0.000</td> <td>    0.078</td> <td>    0.102</td>\n",
       "</tr>\n",
       "<tr>\n",
       "  <th>job_blue-collar</th>     <td>   -0.2321</td> <td>    0.062</td> <td>   -3.745</td> <td> 0.000</td> <td>   -0.354</td> <td>   -0.111</td>\n",
       "</tr>\n",
       "<tr>\n",
       "  <th>job_entrepreneur</th>    <td>   -0.4052</td> <td>    0.108</td> <td>   -3.759</td> <td> 0.000</td> <td>   -0.616</td> <td>   -0.194</td>\n",
       "</tr>\n",
       "<tr>\n",
       "  <th>job_housemaid</th>       <td>   -0.3983</td> <td>    0.114</td> <td>   -3.490</td> <td> 0.000</td> <td>   -0.622</td> <td>   -0.175</td>\n",
       "</tr>\n",
       "<tr>\n",
       "  <th>job_management</th>      <td>   -0.1714</td> <td>    0.062</td> <td>   -2.773</td> <td> 0.006</td> <td>   -0.293</td> <td>   -0.050</td>\n",
       "</tr>\n",
       "<tr>\n",
       "  <th>job_retired</th>         <td>    0.4701</td> <td>    0.080</td> <td>    5.876</td> <td> 0.000</td> <td>    0.313</td> <td>    0.627</td>\n",
       "</tr>\n",
       "<tr>\n",
       "  <th>job_self-employed</th>   <td>   -0.2233</td> <td>    0.094</td> <td>   -2.381</td> <td> 0.017</td> <td>   -0.407</td> <td>   -0.039</td>\n",
       "</tr>\n",
       "<tr>\n",
       "  <th>job_services</th>        <td>   -0.1902</td> <td>    0.071</td> <td>   -2.673</td> <td> 0.008</td> <td>   -0.330</td> <td>   -0.051</td>\n",
       "</tr>\n",
       "<tr>\n",
       "  <th>job_student</th>         <td>    0.4715</td> <td>    0.092</td> <td>    5.126</td> <td> 0.000</td> <td>    0.291</td> <td>    0.652</td>\n",
       "</tr>\n",
       "<tr>\n",
       "  <th>job_technician</th>      <td>   -0.2076</td> <td>    0.058</td> <td>   -3.563</td> <td> 0.000</td> <td>   -0.322</td> <td>   -0.093</td>\n",
       "</tr>\n",
       "<tr>\n",
       "  <th>job_unemployed</th>      <td>    0.0513</td> <td>    0.091</td> <td>    0.562</td> <td> 0.574</td> <td>   -0.128</td> <td>    0.230</td>\n",
       "</tr>\n",
       "<tr>\n",
       "  <th>job_unknown</th>         <td>   -0.2314</td> <td>    0.196</td> <td>   -1.182</td> <td> 0.237</td> <td>   -0.615</td> <td>    0.152</td>\n",
       "</tr>\n",
       "<tr>\n",
       "  <th>marital_divorced</th>    <td>   -0.1844</td> <td>    0.056</td> <td>   -3.282</td> <td> 0.001</td> <td>   -0.294</td> <td>   -0.074</td>\n",
       "</tr>\n",
       "<tr>\n",
       "  <th>marital_married</th>     <td>   -0.3437</td> <td>    0.039</td> <td>   -8.907</td> <td> 0.000</td> <td>   -0.419</td> <td>   -0.268</td>\n",
       "</tr>\n",
       "<tr>\n",
       "  <th>education_secondary</th> <td>    0.1726</td> <td>    0.054</td> <td>    3.173</td> <td> 0.002</td> <td>    0.066</td> <td>    0.279</td>\n",
       "</tr>\n",
       "<tr>\n",
       "  <th>education_tertiary</th>  <td>    0.4020</td> <td>    0.063</td> <td>    6.388</td> <td> 0.000</td> <td>    0.279</td> <td>    0.525</td>\n",
       "</tr>\n",
       "<tr>\n",
       "  <th>education_unknown</th>   <td>    0.2823</td> <td>    0.087</td> <td>    3.234</td> <td> 0.001</td> <td>    0.111</td> <td>    0.453</td>\n",
       "</tr>\n",
       "<tr>\n",
       "  <th>default_yes</th>         <td>   -0.3472</td> <td>    0.148</td> <td>   -2.352</td> <td> 0.019</td> <td>   -0.637</td> <td>   -0.058</td>\n",
       "</tr>\n",
       "<tr>\n",
       "  <th>housing_yes</th>         <td>   -0.6474</td> <td>    0.033</td> <td>  -19.509</td> <td> 0.000</td> <td>   -0.712</td> <td>   -0.582</td>\n",
       "</tr>\n",
       "<tr>\n",
       "  <th>loan_yes</th>            <td>   -0.5841</td> <td>    0.051</td> <td>  -11.408</td> <td> 0.000</td> <td>   -0.684</td> <td>   -0.484</td>\n",
       "</tr>\n",
       "<tr>\n",
       "  <th>contact_telephone</th>   <td>   -0.2077</td> <td>    0.061</td> <td>   -3.415</td> <td> 0.001</td> <td>   -0.327</td> <td>   -0.089</td>\n",
       "</tr>\n",
       "<tr>\n",
       "  <th>contact_unknown</th>     <td>   -1.1324</td> <td>    0.049</td> <td>  -23.143</td> <td> 0.000</td> <td>   -1.228</td> <td>   -1.036</td>\n",
       "</tr>\n",
       "</table>"
      ],
      "text/latex": [
       "\\begin{center}\n",
       "\\begin{tabular}{lclc}\n",
       "\\toprule\n",
       "\\textbf{Dep. Variable:}       &        y         & \\textbf{  No. Observations:  } &    45211    \\\\\n",
       "\\textbf{Model:}               &      Logit       & \\textbf{  Df Residuals:      } &    45185    \\\\\n",
       "\\textbf{Method:}              &       MLE        & \\textbf{  Df Model:          } &       25    \\\\\n",
       "\\textbf{Date:}                & Mon, 22 Jan 2024 & \\textbf{  Pseudo R-squ.:     } &  0.09451    \\\\\n",
       "\\textbf{Time:}                &     18:32:31     & \\textbf{  Log-Likelihood:    } &   -14774.   \\\\\n",
       "\\textbf{converged:}           &       True       & \\textbf{  LL-Null:           } &   -16315.   \\\\\n",
       "\\textbf{Covariance Type:}     &    nonrobust     & \\textbf{  LLR p-value:       } &    0.000    \\\\\n",
       "\\bottomrule\n",
       "\\end{tabular}\n",
       "\\begin{tabular}{lcccccc}\n",
       "                              & \\textbf{coef} & \\textbf{std err} & \\textbf{z} & \\textbf{P$> |$z$|$} & \\textbf{[0.025} & \\textbf{0.975]}  \\\\\n",
       "\\midrule\n",
       "\\textbf{const}                &      -1.2729  &        0.103     &   -12.347  &         0.000        &       -1.475    &       -1.071     \\\\\n",
       "\\textbf{age}                  &       0.0045  &        0.002     &     2.407  &         0.016        &        0.001    &        0.008     \\\\\n",
       "\\textbf{balance}              &       0.0211  &        0.004     &     5.145  &         0.000        &        0.013    &        0.029     \\\\\n",
       "\\textbf{campaign}             &      -0.1321  &        0.009     &   -15.418  &         0.000        &       -0.149    &       -0.115     \\\\\n",
       "\\textbf{previous}             &       0.0902  &        0.006     &    14.719  &         0.000        &        0.078    &        0.102     \\\\\n",
       "\\textbf{job\\_blue-collar}     &      -0.2321  &        0.062     &    -3.745  &         0.000        &       -0.354    &       -0.111     \\\\\n",
       "\\textbf{job\\_entrepreneur}    &      -0.4052  &        0.108     &    -3.759  &         0.000        &       -0.616    &       -0.194     \\\\\n",
       "\\textbf{job\\_housemaid}       &      -0.3983  &        0.114     &    -3.490  &         0.000        &       -0.622    &       -0.175     \\\\\n",
       "\\textbf{job\\_management}      &      -0.1714  &        0.062     &    -2.773  &         0.006        &       -0.293    &       -0.050     \\\\\n",
       "\\textbf{job\\_retired}         &       0.4701  &        0.080     &     5.876  &         0.000        &        0.313    &        0.627     \\\\\n",
       "\\textbf{job\\_self-employed}   &      -0.2233  &        0.094     &    -2.381  &         0.017        &       -0.407    &       -0.039     \\\\\n",
       "\\textbf{job\\_services}        &      -0.1902  &        0.071     &    -2.673  &         0.008        &       -0.330    &       -0.051     \\\\\n",
       "\\textbf{job\\_student}         &       0.4715  &        0.092     &     5.126  &         0.000        &        0.291    &        0.652     \\\\\n",
       "\\textbf{job\\_technician}      &      -0.2076  &        0.058     &    -3.563  &         0.000        &       -0.322    &       -0.093     \\\\\n",
       "\\textbf{job\\_unemployed}      &       0.0513  &        0.091     &     0.562  &         0.574        &       -0.128    &        0.230     \\\\\n",
       "\\textbf{job\\_unknown}         &      -0.2314  &        0.196     &    -1.182  &         0.237        &       -0.615    &        0.152     \\\\\n",
       "\\textbf{marital\\_divorced}    &      -0.1844  &        0.056     &    -3.282  &         0.001        &       -0.294    &       -0.074     \\\\\n",
       "\\textbf{marital\\_married}     &      -0.3437  &        0.039     &    -8.907  &         0.000        &       -0.419    &       -0.268     \\\\\n",
       "\\textbf{education\\_secondary} &       0.1726  &        0.054     &     3.173  &         0.002        &        0.066    &        0.279     \\\\\n",
       "\\textbf{education\\_tertiary}  &       0.4020  &        0.063     &     6.388  &         0.000        &        0.279    &        0.525     \\\\\n",
       "\\textbf{education\\_unknown}   &       0.2823  &        0.087     &     3.234  &         0.001        &        0.111    &        0.453     \\\\\n",
       "\\textbf{default\\_yes}         &      -0.3472  &        0.148     &    -2.352  &         0.019        &       -0.637    &       -0.058     \\\\\n",
       "\\textbf{housing\\_yes}         &      -0.6474  &        0.033     &   -19.509  &         0.000        &       -0.712    &       -0.582     \\\\\n",
       "\\textbf{loan\\_yes}            &      -0.5841  &        0.051     &   -11.408  &         0.000        &       -0.684    &       -0.484     \\\\\n",
       "\\textbf{contact\\_telephone}   &      -0.2077  &        0.061     &    -3.415  &         0.001        &       -0.327    &       -0.089     \\\\\n",
       "\\textbf{contact\\_unknown}     &      -1.1324  &        0.049     &   -23.143  &         0.000        &       -1.228    &       -1.036     \\\\\n",
       "\\bottomrule\n",
       "\\end{tabular}\n",
       "%\\caption{Logit Regression Results}\n",
       "\\end{center}"
      ],
      "text/plain": [
       "<class 'statsmodels.iolib.summary.Summary'>\n",
       "\"\"\"\n",
       "                           Logit Regression Results                           \n",
       "==============================================================================\n",
       "Dep. Variable:                      y   No. Observations:                45211\n",
       "Model:                          Logit   Df Residuals:                    45185\n",
       "Method:                           MLE   Df Model:                           25\n",
       "Date:                Mon, 22 Jan 2024   Pseudo R-squ.:                 0.09451\n",
       "Time:                        18:32:31   Log-Likelihood:                -14774.\n",
       "converged:                       True   LL-Null:                       -16315.\n",
       "Covariance Type:            nonrobust   LLR p-value:                     0.000\n",
       "=======================================================================================\n",
       "                          coef    std err          z      P>|z|      [0.025      0.975]\n",
       "---------------------------------------------------------------------------------------\n",
       "const                  -1.2729      0.103    -12.347      0.000      -1.475      -1.071\n",
       "age                     0.0045      0.002      2.407      0.016       0.001       0.008\n",
       "balance                 0.0211      0.004      5.145      0.000       0.013       0.029\n",
       "campaign               -0.1321      0.009    -15.418      0.000      -0.149      -0.115\n",
       "previous                0.0902      0.006     14.719      0.000       0.078       0.102\n",
       "job_blue-collar        -0.2321      0.062     -3.745      0.000      -0.354      -0.111\n",
       "job_entrepreneur       -0.4052      0.108     -3.759      0.000      -0.616      -0.194\n",
       "job_housemaid          -0.3983      0.114     -3.490      0.000      -0.622      -0.175\n",
       "job_management         -0.1714      0.062     -2.773      0.006      -0.293      -0.050\n",
       "job_retired             0.4701      0.080      5.876      0.000       0.313       0.627\n",
       "job_self-employed      -0.2233      0.094     -2.381      0.017      -0.407      -0.039\n",
       "job_services           -0.1902      0.071     -2.673      0.008      -0.330      -0.051\n",
       "job_student             0.4715      0.092      5.126      0.000       0.291       0.652\n",
       "job_technician         -0.2076      0.058     -3.563      0.000      -0.322      -0.093\n",
       "job_unemployed          0.0513      0.091      0.562      0.574      -0.128       0.230\n",
       "job_unknown            -0.2314      0.196     -1.182      0.237      -0.615       0.152\n",
       "marital_divorced       -0.1844      0.056     -3.282      0.001      -0.294      -0.074\n",
       "marital_married        -0.3437      0.039     -8.907      0.000      -0.419      -0.268\n",
       "education_secondary     0.1726      0.054      3.173      0.002       0.066       0.279\n",
       "education_tertiary      0.4020      0.063      6.388      0.000       0.279       0.525\n",
       "education_unknown       0.2823      0.087      3.234      0.001       0.111       0.453\n",
       "default_yes            -0.3472      0.148     -2.352      0.019      -0.637      -0.058\n",
       "housing_yes            -0.6474      0.033    -19.509      0.000      -0.712      -0.582\n",
       "loan_yes               -0.5841      0.051    -11.408      0.000      -0.684      -0.484\n",
       "contact_telephone      -0.2077      0.061     -3.415      0.001      -0.327      -0.089\n",
       "contact_unknown        -1.1324      0.049    -23.143      0.000      -1.228      -1.036\n",
       "=======================================================================================\n",
       "\"\"\""
      ]
     },
     "execution_count": 9,
     "metadata": {},
     "output_type": "execute_result"
    }
   ],
   "source": [
    "logistic_regression_model.summary()"
   ]
  },
  {
   "cell_type": "markdown",
   "metadata": {},
   "source": [
    "And these are the model's coefficients after exponentiation."
   ]
  },
  {
   "cell_type": "code",
   "execution_count": 10,
   "metadata": {},
   "outputs": [
    {
     "data": {
      "text/plain": [
       "[('const', 0.2800305149314222),\n",
       " ('age', 1.0044752145380202),\n",
       " ('balance', 1.0213064724474892),\n",
       " ('campaign', 0.876277499096245),\n",
       " ('previous', 1.0944009330533633),\n",
       " ('job_blue-collar', 0.7928585082022308),\n",
       " ('job_entrepreneur', 0.6668533914136386),\n",
       " ('job_housemaid', 0.6714553977781073),\n",
       " ('job_management', 0.842478050816824),\n",
       " ('job_retired', 1.600217355230293),\n",
       " ('job_self-employed', 0.7998729526865044),\n",
       " ('job_services', 0.8268073698727477),\n",
       " ('job_student', 1.6023642798054716),\n",
       " ('job_technician', 0.812549892783322),\n",
       " ('job_unemployed', 1.0526698376921397),\n",
       " ('job_unknown', 0.7933912487973842),\n",
       " ('marital_divorced', 0.8316200897732507),\n",
       " ('marital_married', 0.709161333447233),\n",
       " ('education_secondary', 1.1884203914695182),\n",
       " ('education_tertiary', 1.494813313611826),\n",
       " ('education_unknown', 1.3262240064333763),\n",
       " ('default_yes', 0.7066392112323855),\n",
       " ('housing_yes', 0.5233851851737711),\n",
       " ('loan_yes', 0.5576202171093176),\n",
       " ('contact_telephone', 0.8124475352065607),\n",
       " ('contact_unknown', 0.3222585173026331)]"
      ]
     },
     "execution_count": 10,
     "metadata": {},
     "output_type": "execute_result"
    }
   ],
   "source": [
    "list(zip(logistic_regression_model.params.index, np.exp(logistic_regression_model.params.values)))"
   ]
  },
  {
   "cell_type": "markdown",
   "metadata": {},
   "source": [
    "## Question 3 (2 points)\n",
    "\n",
    "In English, state the meaning/interpretation of the exponentiated coefficient associated with the predictor `job_self-employed`."
   ]
  },
  {
   "cell_type": "code",
   "execution_count": null,
   "metadata": {},
   "outputs": [],
   "source": [
    "## Answer 3\n",
    "\n",
    "##the value is 0.7998729526865037, we get the estimates of the odds ratios. it is less than 1 suggests that \n",
    "##as the predictor job_self-employed increases, the odds of the outcome occurring decrease.\n",
    "##This would also mean that for each job_self-employed increases, the odds of the outcome occurring ()\n",
    "##are 0.80 times lesser, assuming other factors are held constant."
   ]
  },
  {
   "cell_type": "markdown",
   "metadata": {},
   "source": [
    "## Question 4 (2 points)\n",
    "\n",
    "In English, state the meaning/interpretation of the exponentiated coefficient associated with the predictor `balance`."
   ]
  },
  {
   "cell_type": "code",
   "execution_count": null,
   "metadata": {},
   "outputs": [],
   "source": [
    "## Answer 4\n",
    "\n",
    "##the value is 1.0213064724474892, we get the estimates of the odds ratios. it is less than 1 suggests that \n",
    "##as the predictor balance increases, the odds of the outcome occurring increase.\n",
    "##This would also mean that for each balance increases, the odds of the outcome occurring ()\n",
    "##are 1.02 times greater, assuming other factors are held constant."
   ]
  },
  {
   "cell_type": "markdown",
   "metadata": {},
   "source": [
    "---"
   ]
  },
  {
   "cell_type": "markdown",
   "metadata": {},
   "source": [
    "Consider the following confusion matrix:"
   ]
  },
  {
   "cell_type": "markdown",
   "metadata": {},
   "source": [
    "|                 | **Predictions** |       | **0** | **1** |\n",
    "|---              |---              |---    |---  |---  |\n",
    "| **True labels** |                 | **0** | 100 | 20 |\n",
    "|                 |                 | **1** | 120 | 80 |"
   ]
  },
  {
   "cell_type": "markdown",
   "metadata": {},
   "source": [
    "## Question 5 (2 points)\n",
    "\n",
    "Calculate the following quantities:\n",
    "\n",
    "- Accuracy\n",
    "\n",
    "- Precision\n",
    "\n",
    "- Recall\n",
    "\n",
    "- Sensitivity\n",
    "\n",
    "- Specificity"
   ]
  },
  {
   "cell_type": "code",
   "execution_count": 19,
   "metadata": {},
   "outputs": [
    {
     "data": {
      "text/plain": [
       "0.8333333333333334"
      ]
     },
     "execution_count": 19,
     "metadata": {},
     "output_type": "execute_result"
    }
   ],
   "source": [
    "#question 5\n",
    "#            Predictions\t\t0\t1\n",
    "#True labels\t\t0\t100\t20\n",
    "#                  1\t120\t80\n",
    "#cm[0, 0] is the number of true negatives (TN).\n",
    "#cm[0, 1] is the number of false positives (FP).\n",
    "#cm[1, 0] is the number of false negatives (FN).\n",
    "#cm[1, 1] is the number of true positives (TP).\n",
    "\n",
    "tn=100\n",
    "fp=20\n",
    "fn=120\n",
    "tp=80\n",
    "# Accuracy: The proportion of true results (both true positives and true negatives)\n",
    "# among the total number of cases examined. For this confusion matrix, the accuracy is 0.5625 or 56.25%.\n",
    "(tn + tp) / (tn + fp + fn + tp)\n",
    "# Precision: The proportion of true positives among all positive predictions. In this case, the precision is 0.8 or 80%.\n",
    "tp/(tp+fp)\n",
    "#Recall (Sensitivity): The proportion of true positives identified correctly. Here, the recall (or sensitivity) is 0.4 or 40%.\n",
    "tp / (tp + fn)\n",
    "#Sensitivity: This is the same as recall. It measures the proportion of actual positives correctly identified. Again, it's 0.4 or 40%.\n",
    "tp / (tp + fn)\n",
    "#Specificity: The proportion of true negatives identified correctly. For this confusion matrix, the specificity is approximately 0.8333 or 83.33%.\n",
    "tn / (tn + fp)"
   ]
  },
  {
   "cell_type": "markdown",
   "metadata": {},
   "source": [
    "---"
   ]
  },
  {
   "cell_type": "markdown",
   "metadata": {},
   "source": [
    "Now, let's consider the following marketing data."
   ]
  },
  {
   "cell_type": "code",
   "execution_count": 20,
   "metadata": {},
   "outputs": [],
   "source": [
    "marketing_data = pd.read_csv('homework_data/marketing.csv')"
   ]
  },
  {
   "cell_type": "code",
   "execution_count": 21,
   "metadata": {},
   "outputs": [
    {
     "data": {
      "text/html": [
       "<div>\n",
       "<style scoped>\n",
       "    .dataframe tbody tr th:only-of-type {\n",
       "        vertical-align: middle;\n",
       "    }\n",
       "\n",
       "    .dataframe tbody tr th {\n",
       "        vertical-align: top;\n",
       "    }\n",
       "\n",
       "    .dataframe thead th {\n",
       "        text-align: right;\n",
       "    }\n",
       "</style>\n",
       "<table border=\"1\" class=\"dataframe\">\n",
       "  <thead>\n",
       "    <tr style=\"text-align: right;\">\n",
       "      <th></th>\n",
       "      <th>facebook</th>\n",
       "      <th>sales</th>\n",
       "    </tr>\n",
       "  </thead>\n",
       "  <tbody>\n",
       "    <tr>\n",
       "      <th>0</th>\n",
       "      <td>45.36</td>\n",
       "      <td>72.52</td>\n",
       "    </tr>\n",
       "    <tr>\n",
       "      <th>1</th>\n",
       "      <td>47.16</td>\n",
       "      <td>60.48</td>\n",
       "    </tr>\n",
       "    <tr>\n",
       "      <th>2</th>\n",
       "      <td>55.08</td>\n",
       "      <td>67.16</td>\n",
       "    </tr>\n",
       "    <tr>\n",
       "      <th>3</th>\n",
       "      <td>49.56</td>\n",
       "      <td>72.20</td>\n",
       "    </tr>\n",
       "    <tr>\n",
       "      <th>4</th>\n",
       "      <td>12.96</td>\n",
       "      <td>28.48</td>\n",
       "    </tr>\n",
       "  </tbody>\n",
       "</table>\n",
       "</div>"
      ],
      "text/plain": [
       "   facebook  sales\n",
       "0     45.36  72.52\n",
       "1     47.16  60.48\n",
       "2     55.08  67.16\n",
       "3     49.56  72.20\n",
       "4     12.96  28.48"
      ]
     },
     "execution_count": 21,
     "metadata": {},
     "output_type": "execute_result"
    }
   ],
   "source": [
    "marketing_data.head()"
   ]
  },
  {
   "cell_type": "markdown",
   "metadata": {},
   "source": [
    "- `facebook` measures the budget (in 1000s of USD) spent on an online marketing campaign for a product\n",
    "\n",
    "- `sales` measures the sales (in 1000s of USD) induced by the campaign."
   ]
  },
  {
   "cell_type": "code",
   "execution_count": 22,
   "metadata": {},
   "outputs": [
    {
     "data": {
      "image/png": "[encoded data removed]",
      "text/plain": [
       "<Figure size 640x480 with 1 Axes>"
      ]
     },
     "metadata": {},
     "output_type": "display_data"
    }
   ],
   "source": [
    "_ = sns.scatterplot(x='facebook', y='sales', data=marketing_data)"
   ]
  },
  {
   "cell_type": "markdown",
   "metadata": {},
   "source": [
    "## Question 6 (1 points)\n",
    "\n",
    "Fit a simple linear regression of `sales` on `facebook` using the `sklearn` library."
   ]
  },
  {
   "cell_type": "markdown",
   "metadata": {},
   "source": [
    "## Answer 6"
   ]
  },
  {
   "cell_type": "code",
   "execution_count": 28,
   "metadata": {},
   "outputs": [
    {
     "name": "stdout",
     "output_type": "stream",
     "text": [
      "Coefficient (Slope): 1.2039164079235058\n",
      "Intercept: 11.637506423281074\n"
     ]
    }
   ],
   "source": [
    "X = marketing_data['facebook'].values.reshape(-1, 1)\n",
    "Y = marketing_data['sales']\n",
    "\n",
    "# your answer here\n",
    "# Prepare the data\n",
    "X = np.array(marketing_data[\"facebook\"]).reshape(-1, 1)  # Features\n",
    "y = np.array(marketing_data[\"sales\"])       \n",
    "# Create and fit the model\n",
    "model = LinearRegression()\n",
    "model.fit(X, y)\n",
    "# Output the coefficient and intercept\n",
    "print(\"Coefficient (Slope):\", model.coef_[0])\n",
    "print(\"Intercept:\", model.intercept_)"
   ]
  },
  {
   "cell_type": "markdown",
   "metadata": {},
   "source": [
    "## Question 7 (1 points)\n",
    "\n",
    "Your company is planning to run an advertisement campaign on Facebook and has a budget of 50,000 USD for it.\n",
    "What sales (in 1000s) of USD will be generated by the campaign according to your linear regression model?"
   ]
  },
  {
   "cell_type": "markdown",
   "metadata": {},
   "source": [
    "## Answer 7"
   ]
  },
  {
   "cell_type": "code",
   "execution_count": 29,
   "metadata": {},
   "outputs": [
    {
     "name": "stdout",
     "output_type": "stream",
     "text": [
      "Predicted Sales (in 1000s of USD): 71.83332681945637\n"
     ]
    }
   ],
   "source": [
    "prediction_data = pd.DataFrame({'facebook': pd.Series(50)})\n",
    "\n",
    "# your answer here\n",
    "# The Facebook advertising budget in the same scale used during training\n",
    "facebook_budget = 50  # representing $50,000\n",
    "\n",
    "# Making the prediction\n",
    "predicted_sales = model.predict([[facebook_budget]])\n",
    "#Predicted Sales (in 1000s of USD): 71.83332681945637\n",
    "print(\"Predicted Sales (in 1000s of USD):\", predicted_sales[0])"
   ]
  },
  {
   "cell_type": "code",
   "execution_count": null,
   "metadata": {},
   "outputs": [],
   "source": []
  }
 ],
 "metadata": {
  "kernelspec": {
   "display_name": "Python 3 (ipykernel)",
   "language": "python",
   "name": "python3"
  },
  "language_info": {
   "codemirror_mode": {
    "name": "ipython",
    "version": 3
   },
   "file_extension": ".py",
   "mimetype": "text/x-python",
   "name": "python",
   "nbconvert_exporter": "python",
   "pygments_lexer": "ipython3",
   "version": "3.11.5"
  }
 },
 "nbformat": 4,
 "nbformat_minor": 4
}
